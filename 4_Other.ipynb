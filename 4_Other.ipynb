{
 "metadata": {
  "name": ""
 },
 "nbformat": 3,
 "nbformat_minor": 0,
 "worksheets": [
  {
   "cells": [
    {
     "cell_type": "markdown",
     "metadata": {},
     "source": [
      "#Other scientific libraries#\n",
      "##Scikit-learn##\n",
      "##Scikit-image##\n",
      "#Other input/output libraries#\n",
      "##h5py##\n",
      "##nexpy##\n",
      "##fabio##\n",
      "#GPU programming#\n",
      "##PyCuda##\n",
      "##PyOpenCL##\n",
      "##Scikit CUDA##\n"
     ]
    },
    {
     "cell_type": "code",
     "collapsed": false,
     "input": [],
     "language": "python",
     "metadata": {},
     "outputs": []
    }
   ],
   "metadata": {}
  }
 ]
}