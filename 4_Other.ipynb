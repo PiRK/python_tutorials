{
 "metadata": {
  "name": "",
  "signature": "sha256:cdcf7cc687ebd2994da54e79bb4aabb86824d395531bb86e361394ee52ee4e98"
 },
 "nbformat": 3,
 "nbformat_minor": 0,
 "worksheets": [
  {
   "cells": [
    {
     "cell_type": "markdown",
     "metadata": {},
     "source": [
      "#Other scientific libraries#\n",
      "\n",
      "There are plenty of other scientific libraries ...\n",
      "\n",
      "##Scikit-learn##\n",
      "##Scikit-image##\n",
      "#Other input/output libraries#\n",
      "##h5py##\n",
      "##nexpy##\n",
      "##fabio##\n",
      "#GPU programming#\n",
      "##PyCuda##\n",
      "##PyOpenCL##\n",
      "##Scikit CUDA##\n"
     ]
    },
    {
     "cell_type": "markdown",
     "metadata": {},
     "source": [
      "[Conclusion](http://localhost:8888/notebooks/Conclusion.ipynb)\n"
     ]
    },
    {
     "cell_type": "code",
     "collapsed": false,
     "input": [],
     "language": "python",
     "metadata": {},
     "outputs": []
    }
   ],
   "metadata": {}
  }
 ]
}