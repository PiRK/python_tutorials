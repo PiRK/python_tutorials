{
 "metadata": {
  "name": "",
  "signature": "sha256:504d4a2364832553d9f80536f9fb8039f0d54d8bc79d773d57e70e29be9ae055"
 },
 "nbformat": 3,
 "nbformat_minor": 0,
 "worksheets": [
  {
   "cells": [
    {
     "cell_type": "markdown",
     "metadata": {},
     "source": [
      "Introduction to Python\n",
      "======================"
     ]
    },
    {
     "cell_type": "markdown",
     "metadata": {},
     "source": [
      "Python provides by default:"
     ]
    },
    {
     "cell_type": "markdown",
     "metadata": {},
     "source": [
      "Basic operations\n",
      "----------------\n",
      "\n",
      "    +  Addition\n",
      "    -  Subtraction\n",
      "    *  Multiplication\n",
      "    /  Division\n",
      "    ** Exponentiation\n",
      "    abs(x) Absolute value of x\n",
      "    %\tRemainder of a/b\n",
      "    //  Integer part of a/b"
     ]
    },
    {
     "cell_type": "markdown",
     "metadata": {},
     "source": [
      "Basic High-Level Data Types\n",
      "---------------------------\n",
      "* Numbers: 10, 10.0, 1.0e+01,  ( 10.0+3j )\n",
      "* Strings, Unicode: \u201cHello World!\u201d, u\u201dHello World!\u201d \n",
      "* Lists: [\u2018abc\u2019, 3, \u201cx\u201d]\n",
      "* Tuples: (\u2018abc\u2019, 3, \u2018x\u2019)\n",
      "* Dictionnaries: {\u2018key1\u2019:\u2019abc\u2019, \u2018key2\u2019: 3, \u2018key3\u2019:\u2019x\u2019}\n",
      "\n",
      "\n",
      "\n"
     ]
    },
    {
     "cell_type": "markdown",
     "metadata": {},
     "source": [
      "###Exercise 1###\n",
      "\n",
      "\n",
      "Use Python as a simple calculator. \n",
      "Try the previous operations on different numbers (integers, floats, \u2026).\n",
      "\n",
      "Define an array a = [1, 2, 3]\n",
      "What is the result of 2*a[2] ?\n",
      "What is the result of 2*a ?\n",
      "\n",
      "Combine operations and data types and comment your findings."
     ]
    },
    {
     "cell_type": "code",
     "collapsed": false,
     "input": [
      "a = [1,2,3]\n",
      "print(2*a[2])\n",
      "print(2*a)"
     ],
     "language": "python",
     "metadata": {},
     "outputs": [
      {
       "output_type": "stream",
       "stream": "stdout",
       "text": [
        "6\n",
        "[1, 2, 3, 1, 2, 3]\n"
       ]
      }
     ],
     "prompt_number": 1
    },
    {
     "cell_type": "markdown",
     "metadata": {},
     "source": [
      "##Conclusion##\n",
      "Without additional libraries, Python is almost useless for scientific computing.\n"
     ]
    },
    {
     "cell_type": "markdown",
     "metadata": {},
     "source": [
      "Go to the introduction to [Numpy](http://localhost:8888/notebooks/1_0_Numpy.ipynb)."
     ]
    },
    {
     "cell_type": "code",
     "collapsed": false,
     "input": [
      "%pylab"
     ],
     "language": "python",
     "metadata": {},
     "outputs": [
      {
       "output_type": "stream",
       "stream": "stdout",
       "text": [
        "Using matplotlib backend: TkAgg\n",
        "Populating the interactive namespace from numpy and matplotlib\n"
       ]
      }
     ],
     "prompt_number": 2
    },
    {
     "cell_type": "code",
     "collapsed": false,
     "input": [
      "import scipy.misc"
     ],
     "language": "python",
     "metadata": {},
     "outputs": [],
     "prompt_number": 3
    },
    {
     "cell_type": "code",
     "collapsed": false,
     "input": [
      "l=scipy.misc.lena??\n"
     ],
     "language": "python",
     "metadata": {},
     "outputs": [],
     "prompt_number": 6
    },
    {
     "cell_type": "code",
     "collapsed": false,
     "input": [
      "l=scipy.misc.lena"
     ],
     "language": "python",
     "metadata": {},
     "outputs": []
    },
    {
     "cell_type": "code",
     "collapsed": false,
     "input": [
      "l=scipy.misc.lena"
     ],
     "language": "python",
     "metadata": {},
     "outputs": []
    },
    {
     "cell_type": "code",
     "collapsed": false,
     "input": [
      "imshow(l,cmap=\"gray\")\n"
     ],
     "language": "python",
     "metadata": {},
     "outputs": [
      {
       "metadata": {},
       "output_type": "pyout",
       "prompt_number": 7,
       "text": [
        "<matplotlib.image.AxesImage at 0x41d62d0>"
       ]
      }
     ],
     "prompt_number": 7
    },
    {
     "cell_type": "code",
     "collapsed": false,
     "input": [],
     "language": "python",
     "metadata": {},
     "outputs": []
    }
   ],
   "metadata": {}
  }
 ]
}