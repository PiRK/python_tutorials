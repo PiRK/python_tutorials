{
 "metadata": {
  "name": "1_1_NDarray"
 },
 "nbformat": 3,
 "nbformat_minor": 0,
 "worksheets": [
  {
   "cells": [
    {
     "cell_type": "markdown",
     "metadata": {},
     "source": [
      "#The ndarray object from NumPy #\n",
      "\n",
      "The (nd)array object:\n",
      "\n",
      "* Collection of elements of the same type\n",
      "* Implemented in memory as a true table optimized for performance\n",
      "* Handled in similar way as any other python object\n",
      "\n",
      "Multidimensional, any type of data\n",
      "\n",
      "* Dimensions can be modified, flexible indexation\n",
      "* Internal optimization for 1D, 2D and 3D\n",
      "\n",
      "It can be interfaced with other languages...\n",
      "\n",
      "Nota: the array module exists in python but it is limited to 1d, not to be confused with Numpy's nd-array"
     ]
    },
    {
     "cell_type": "code",
     "collapsed": false,
     "input": [
      "import numpy"
     ],
     "language": "python",
     "metadata": {},
     "outputs": [],
     "prompt_number": 27
    },
    {
     "cell_type": "markdown",
     "metadata": {},
     "source": [
      "##Array creation, given its contents##\n",
      "\n",
      "From a list of values:"
     ]
    },
    {
     "cell_type": "code",
     "collapsed": false,
     "input": [
      "numpy.array([1, 2, 3, 5, 7, 11, 13, 17])"
     ],
     "language": "python",
     "metadata": {},
     "outputs": [
      {
       "output_type": "pyout",
       "prompt_number": 28,
       "text": [
        "array([ 1,  2,  3,  5,  7, 11, 13, 17])"
       ]
      }
     ],
     "prompt_number": 28
    },
    {
     "cell_type": "markdown",
     "metadata": {},
     "source": [
      "From a list of values and dimensions:\n"
     ]
    },
    {
     "cell_type": "code",
     "collapsed": false,
     "input": [
      "numpy.array([[1, 2, 3], [4, 5, 6]])\n"
     ],
     "language": "python",
     "metadata": {},
     "outputs": [
      {
       "output_type": "pyout",
       "prompt_number": 29,
       "text": [
        "array([[1, 2, 3],\n",
        "       [4, 5, 6]])"
       ]
      }
     ],
     "prompt_number": 29
    },
    {
     "cell_type": "markdown",
     "metadata": {},
     "source": [
      "Also specifying the type of element:"
     ]
    },
    {
     "cell_type": "code",
     "collapsed": false,
     "input": [
      "numpy.array([[1, 2, 3], [4, 5, 6]], dtype=numpy.float64)"
     ],
     "language": "python",
     "metadata": {},
     "outputs": [
      {
       "output_type": "pyout",
       "prompt_number": 30,
       "text": [
        "array([[ 1.,  2.,  3.],\n",
        "       [ 4.,  5.,  6.]])"
       ]
      }
     ],
     "prompt_number": 30
    },
    {
     "cell_type": "markdown",
     "metadata": {},
     "source": [
      "##Array creation using numpy methods##"
     ]
    },
    {
     "cell_type": "code",
     "collapsed": false,
     "input": [
      "shape = (2,3)\n",
      "numpy.zeros(shape,dtype=\"int32\")"
     ],
     "language": "python",
     "metadata": {},
     "outputs": [
      {
       "output_type": "pyout",
       "prompt_number": 31,
       "text": [
        "array([[0, 0, 0],\n",
        "       [0, 0, 0]], dtype=int32)"
       ]
      }
     ],
     "prompt_number": 31
    },
    {
     "cell_type": "code",
     "collapsed": false,
     "input": [
      "numpy.ones(shape,dtype=\"int32\")"
     ],
     "language": "python",
     "metadata": {},
     "outputs": [
      {
       "output_type": "pyout",
       "prompt_number": 32,
       "text": [
        "array([[1, 1, 1],\n",
        "       [1, 1, 1]], dtype=int32)"
       ]
      }
     ],
     "prompt_number": 32
    },
    {
     "cell_type": "code",
     "collapsed": false,
     "input": [
      "#this is a ipython trick to request help ...\n",
      "numpy.arange?"
     ],
     "language": "python",
     "metadata": {},
     "outputs": [],
     "prompt_number": 33
    },
    {
     "cell_type": "code",
     "collapsed": false,
     "input": [
      "numpy.arange(0, 10, 2)"
     ],
     "language": "python",
     "metadata": {},
     "outputs": [
      {
       "output_type": "pyout",
       "prompt_number": 34,
       "text": [
        "array([0, 2, 4, 6, 8])"
       ]
      }
     ],
     "prompt_number": 34
    },
    {
     "cell_type": "code",
     "collapsed": false,
     "input": [
      "numpy.identity(3,dtype=numpy.int)"
     ],
     "language": "python",
     "metadata": {},
     "outputs": [
      {
       "output_type": "pyout",
       "prompt_number": 35,
       "text": [
        "array([[1, 0, 0],\n",
        "       [0, 1, 0],\n",
        "       [0, 0, 1]])"
       ]
      }
     ],
     "prompt_number": 35
    },
    {
     "cell_type": "markdown",
     "metadata": {},
     "source": [
      "Arrays can also be generated from index positions using `numpy.fromfunction`. This can be combined with `lambda-function`"
     ]
    },
    {
     "cell_type": "code",
     "collapsed": false,
     "input": [
      "lambda_function = lambda i,j: numpy.sin(i) * numpy.cos(j)\n",
      "numpy.fromfunction(lambda_function, (3,3))"
     ],
     "language": "python",
     "metadata": {},
     "outputs": [
      {
       "output_type": "pyout",
       "prompt_number": 37,
       "text": [
        "array([[ 0.        ,  0.        , -0.        ],\n",
        "       [ 0.84147098,  0.45464871, -0.35017549],\n",
        "       [ 0.90929743,  0.4912955 , -0.37840125]])"
       ]
      }
     ],
     "prompt_number": 37
    },
    {
     "cell_type": "markdown",
     "metadata": {},
     "source": [
      "Numpy array can directly be dumped to and restrored from disk:"
     ]
    },
    {
     "cell_type": "code",
     "collapsed": false,
     "input": [
      "a = numpy.ones((3, 5), dtype=\"complex\")\n",
      "numpy.save('data.npy', a)\n",
      "b = numpy.load('data.npy')\n",
      "print(b)"
     ],
     "language": "python",
     "metadata": {},
     "outputs": [
      {
       "output_type": "stream",
       "stream": "stdout",
       "text": [
        "[[ 1.+0.j  1.+0.j  1.+0.j  1.+0.j  1.+0.j]\n",
        " [ 1.+0.j  1.+0.j  1.+0.j  1.+0.j  1.+0.j]\n",
        " [ 1.+0.j  1.+0.j  1.+0.j  1.+0.j  1.+0.j]]\n"
       ]
      }
     ],
     "prompt_number": 39
    },
    {
     "cell_type": "markdown",
     "metadata": {},
     "source": [
      "###Exercise 2###\n",
      "\n",
      "Use Python as a simple calculator and compare the behaviour of numpy array (vs lists) as in Exercise 1\n",
      "\n",
      " a = [1, 2, 3]\n",
      " \n",
      " b = numpy.array(a)\n",
      "\n",
      "* What is the result of 2 * a[2] ?\n",
      "* What is the result of 2 * a  ?\n",
      "* What is the result of 2 * b[2] ?\n",
      "* What is the result of 2 * b  ?\n"
     ]
    },
    {
     "cell_type": "code",
     "collapsed": false,
     "input": [
      "a = [1, 2, 3]\n",
      "import numpy\n",
      "b = numpy.array(a)\n",
      "print(2*a[2])\n",
      "print(2*a)\n",
      "print(2*b[2])\n",
      "print(2*b)\n"
     ],
     "language": "python",
     "metadata": {},
     "outputs": [
      {
       "output_type": "stream",
       "stream": "stdout",
       "text": [
        "6\n",
        "[1, 2, 3, 1, 2, 3]\n",
        "6\n",
        "[2 4 6]\n"
       ]
      }
     ],
     "prompt_number": 41
    },
    {
     "cell_type": "markdown",
     "metadata": {},
     "source": [
      "##Type of elements##\n",
      "* Integers, signed or not, of width 8, 16, 32 and 64 bits\n",
      "* Float in half (16bits), single (32bits) or double (64 bits) precision\n",
      "* Complexes in single (complex64: 2x32 bits) and double (complex128: 2x64 bits) precision for real and imaginary parts\n",
      "* Fixed length strings\n",
      "* Any python object: you loose any king of optimization\n",
      "\n",
      "Nota:\n",
      "* numpy.float is the \"python float\" i.e. a 64-bit double precision float.\n",
      "* numpy.int is the \"python int\" which is 32 bits on windows and may be 64 bits on unix 64 bits systems\n",
      "\n",
      "It is adviced to explicitly specify the data-type: numpy.uint16"
     ]
    },
    {
     "cell_type": "code",
     "collapsed": false,
     "input": [
      "import numpy\n",
      "a = {'dict':'a'}\n",
      "b = ['list','b']\n",
      "c = ('tuple','c')\n",
      "v = numpy.array([a, b, c,\"bla\"])\n",
      "print(v)"
     ],
     "language": "python",
     "metadata": {},
     "outputs": [
      {
       "output_type": "stream",
       "stream": "stdout",
       "text": [
        "[{'dict': 'a'} ['list', 'b'] ('tuple', 'c') bla]\n"
       ]
      }
     ],
     "prompt_number": 8
    },
    {
     "cell_type": "markdown",
     "metadata": {},
     "source": [
      "##Record Array##\n",
      "\n",
      "Like an array of struct where each field has a name:\n",
      "\n",
      "Example: image stored each pixel a 3 uint8 for Red, Green and Blue channels:\n"
     ]
    },
    {
     "cell_type": "code",
     "collapsed": false,
     "input": [
      "img = numpy.zeros((2,2), {'names': ('r','g','b'), 'formats': (numpy.uint8, numpy.uint8, numpy.uint8)}) \n",
      "img[\"r\"] = 10\n",
      "print(img)"
     ],
     "language": "python",
     "metadata": {},
     "outputs": [
      {
       "output_type": "stream",
       "stream": "stdout",
       "text": [
        "[[(10, 0, 0) (10, 0, 0)]\n",
        " [(10, 0, 0) (10, 0, 0)]]\n"
       ]
      }
     ],
     "prompt_number": 6
    },
    {
     "cell_type": "markdown",
     "metadata": {},
     "source": [
      "## View on an array##\n",
      "Nd-array are composed of a buffer containing the data (or the pointer to the data) and associated metadata.\n",
      "Multiple array can point on the same buffer, they are called \"views\" on the array. \n",
      "Modifying one view impacts all others.\n",
      "\n",
      "##Array Attributes##\n",
      "Each array has multiple attributes:\n",
      "\n",
      "* dtype: data type of the elements\n",
      "* itemsize: size of each element\n",
      "* ndim: number of dimention\n",
      "* shape: tuple containing the array dimensions. It is a Read and Write attribute.\n",
      "* size: number of elements\n",
      "* nbytes: size allocated to the underlying buffer\n",
      "* strides: tuple of bytes to step in each dimension when traversing an array\n",
      "* data: the actual buffer where the data are\n",
      "* flags: information about data contiguity in memory\n",
      "* flat: flat (1d) view of the array\n",
      "* T: transposed view of the array: this is performed on playing with shape and strides..."
     ]
    },
    {
     "cell_type": "code",
     "collapsed": false,
     "input": [
      "a = numpy.arange(6)\n",
      "a.shape = (2,3)\n",
      "print(a)\n",
      "print(\"dtype: \"+str(a.dtype))\n",
      "print(\"shape: \"+str(a.shape))\n",
      "print(\"strides: \"+str(a.strides))\n",
      "print(\"buffer address: %s\"%a.ctypes.data)"
     ],
     "language": "python",
     "metadata": {},
     "outputs": [
      {
       "output_type": "stream",
       "stream": "stdout",
       "text": [
        "[[0 1 2]\n",
        " [3 4 5]]\n",
        "dtype: int64\n",
        "shape: (2, 3)\n",
        "strides: (24, 8)\n",
        "buffer address: 139771793448864\n"
       ]
      }
     ],
     "prompt_number": 27
    },
    {
     "cell_type": "code",
     "collapsed": false,
     "input": [
      "b = a.T\n",
      "print(b)\n",
      "print(\"dtype: \"+str(b.dtype))\n",
      "print(\"shape: \"+str(b.shape))\n",
      "print(\"strides: \"+str(b.strides))\n",
      "print(\"buffer address: %s\"%b.ctypes.data)"
     ],
     "language": "python",
     "metadata": {},
     "outputs": [
      {
       "output_type": "stream",
       "stream": "stdout",
       "text": [
        "[[0 3]\n",
        " [1 4]\n",
        " [2 5]]\n",
        "dtype: int64\n",
        "shape: (3, 2)\n",
        "strides: (8, 24)\n",
        "buffer address: 139771793448752\n"
       ]
      }
     ],
     "prompt_number": 25
    },
    {
     "cell_type": "code",
     "collapsed": false,
     "input": [
      "b[0,0]=10\n",
      "print(a)"
     ],
     "language": "python",
     "metadata": {},
     "outputs": [
      {
       "output_type": "stream",
       "stream": "stdout",
       "text": [
        "[[10  1  2]\n",
        " [ 3  4  5]]\n"
       ]
      }
     ],
     "prompt_number": 26
    },
    {
     "cell_type": "markdown",
     "metadata": {},
     "source": [
      "Shape/Strides and views/buffer are quite complex mecanisms ... "
     ]
    },
    {
     "cell_type": "markdown",
     "metadata": {},
     "source": [
      "##Indexing##\n",
      "One can select elements as with any other Python sequence.\n",
      "\n",
      "* Indexing starts at 0 for each array dimension\n",
      "* Indexes can be negative: x[-1] is the same as x[len(x) - 1]\n",
      "* Indexes can be a list or an array of index (integers)\n",
      "* Indexes can be an array of boolean of the same size\n",
      "\n",
      "The output refers to the original array and usually it is not contiguous in memory.\n"
     ]
    },
    {
     "cell_type": "code",
     "collapsed": false,
     "input": [
      "a = numpy.arange(24).reshape((6, 4))\n",
      "print(a)\n",
      "a[3, 2] #extraction of a single element"
     ],
     "language": "python",
     "metadata": {},
     "outputs": [
      {
       "output_type": "stream",
       "stream": "stdout",
       "text": [
        "[[ 0  1  2  3]\n",
        " [ 4  5  6  7]\n",
        " [ 8  9 10 11]\n",
        " [12 13 14 15]\n",
        " [16 17 18 19]\n",
        " [20 21 22 23]]\n"
       ]
      },
      {
       "output_type": "pyout",
       "prompt_number": 33,
       "text": [
        "14"
       ]
      }
     ],
     "prompt_number": 33
    },
    {
     "cell_type": "code",
     "collapsed": false,
     "input": [
      "a[3:4, 2] #extraction of the third line, second element"
     ],
     "language": "python",
     "metadata": {},
     "outputs": [
      {
       "output_type": "pyout",
       "prompt_number": 34,
       "text": [
        "array([14])"
       ]
      }
     ],
     "prompt_number": 34
    },
    {
     "cell_type": "code",
     "collapsed": false,
     "input": [
      "a[3,:]     #same as previous assuming a has at least two dimensions"
     ],
     "language": "python",
     "metadata": {},
     "outputs": [
      {
       "output_type": "pyout",
       "prompt_number": 35,
       "text": [
        "array([12, 13, 14, 15])"
       ]
      }
     ],
     "prompt_number": 35
    },
    {
     "cell_type": "code",
     "collapsed": false,
     "input": [
      "a[0, -1] #last element of the first row"
     ],
     "language": "python",
     "metadata": {},
     "outputs": [
      {
       "output_type": "pyout",
       "prompt_number": 36,
       "text": [
        "3"
       ]
      }
     ],
     "prompt_number": 36
    },
    {
     "cell_type": "code",
     "collapsed": false,
     "input": [
      "a[0:2, 0:4:2] #slicing allowed"
     ],
     "language": "python",
     "metadata": {},
     "outputs": [
      {
       "output_type": "pyout",
       "prompt_number": 38,
       "text": [
        "array([[0, 2],\n",
        "       [4, 6]])"
       ]
      }
     ],
     "prompt_number": 38
    },
    {
     "cell_type": "code",
     "collapsed": false,
     "input": [
      "a[0:2, :] = 5  #assignation is also possible"
     ],
     "language": "python",
     "metadata": {},
     "outputs": [],
     "prompt_number": 39
    },
    {
     "cell_type": "code",
     "collapsed": false,
     "input": [
      "a>10"
     ],
     "language": "python",
     "metadata": {},
     "outputs": [
      {
       "output_type": "pyout",
       "prompt_number": 43,
       "text": [
        "array([[False, False, False, False],\n",
        "       [False, False, False, False],\n",
        "       [False, False, False,  True],\n",
        "       [ True,  True,  True,  True],\n",
        "       [ True,  True,  True,  True],\n",
        "       [ True,  True,  True,  True]], dtype=bool)"
       ]
      }
     ],
     "prompt_number": 43
    },
    {
     "cell_type": "code",
     "collapsed": false,
     "input": [
      "a[a>10]"
     ],
     "language": "python",
     "metadata": {},
     "outputs": [
      {
       "output_type": "pyout",
       "prompt_number": 44,
       "text": [
        "array([11, 12, 13, 14, 15, 16, 17, 18, 19, 20, 21, 22, 23])"
       ]
      }
     ],
     "prompt_number": 44
    },
    {
     "cell_type": "code",
     "collapsed": false,
     "input": [
      "a"
     ],
     "language": "python",
     "metadata": {},
     "outputs": [
      {
       "output_type": "pyout",
       "prompt_number": 45,
       "text": [
        "array([[ 5,  5,  5,  5],\n",
        "       [ 5,  5,  5,  5],\n",
        "       [ 8,  9, 10, 11],\n",
        "       [12, 13, 14, 15],\n",
        "       [16, 17, 18, 19],\n",
        "       [20, 21, 22, 23]])"
       ]
      }
     ],
     "prompt_number": 45
    },
    {
     "cell_type": "markdown",
     "metadata": {},
     "source": [
      "###Exercise 3 ###\n",
      "Provide an expression to calculate the difference X[i+1]-X[i] for all the elements of the 1D array X.\n",
      "\n",
      "Subquestion: how to get all elements starting excluding the first ? excluding the last ?\n"
     ]
    },
    {
     "cell_type": "code",
     "collapsed": false,
     "input": [
      "X = numpy.array(range(100))\n",
      "# Nop there is no answer yet :\u00fe"
     ],
     "language": "python",
     "metadata": {},
     "outputs": [],
     "prompt_number": 46
    },
    {
     "cell_type": "markdown",
     "metadata": {},
     "source": [
      "##NumPy ndarray methods##\n",
      "\n",
      "There are really a lot of methods to numpy arrays but the most important ones are (assuming *a* is an array):\n",
      "\n",
      "* a.min(): returns the minimum of the array\n",
      "* a.max(): returns the maximum of the array\n",
      "* a.sort(): returns an array with the sorted elements\n",
      "* a.argsort(): returns an array with the index to sort the array\n",
      "* a.sum(): returns the sum of the elements of the array\n",
      "* a.copy(): returns an actual copy of the array (not a view)\n",
      "\n",
      "Note that most methods take axis, dtype and out optionnal arguments:\n",
      "\n",
      "a.sum(axis=None, dtype=None, out=None) Perform the sum along a specified axis\n",
      "\n",
      "* axis:  along which axis the operation shhould be performed\n",
      "* dtype: request the data type in which operations should be performed (in overflow of integers are expected)\n",
      "* out: provide an allocated array to store the result (prevents a malloc/free cycle)\n"
     ]
    },
    {
     "cell_type": "code",
     "collapsed": false,
     "input": [
      "dir(a) #to convince youself"
     ],
     "language": "python",
     "metadata": {},
     "outputs": [
      {
       "output_type": "pyout",
       "prompt_number": 47,
       "text": [
        "['T',\n",
        " '__abs__',\n",
        " '__add__',\n",
        " '__and__',\n",
        " '__array__',\n",
        " '__array_finalize__',\n",
        " '__array_interface__',\n",
        " '__array_prepare__',\n",
        " '__array_priority__',\n",
        " '__array_struct__',\n",
        " '__array_wrap__',\n",
        " '__class__',\n",
        " '__contains__',\n",
        " '__copy__',\n",
        " '__deepcopy__',\n",
        " '__delattr__',\n",
        " '__delitem__',\n",
        " '__delslice__',\n",
        " '__div__',\n",
        " '__divmod__',\n",
        " '__doc__',\n",
        " '__eq__',\n",
        " '__float__',\n",
        " '__floordiv__',\n",
        " '__format__',\n",
        " '__ge__',\n",
        " '__getattribute__',\n",
        " '__getitem__',\n",
        " '__getslice__',\n",
        " '__gt__',\n",
        " '__hash__',\n",
        " '__hex__',\n",
        " '__iadd__',\n",
        " '__iand__',\n",
        " '__idiv__',\n",
        " '__ifloordiv__',\n",
        " '__ilshift__',\n",
        " '__imod__',\n",
        " '__imul__',\n",
        " '__index__',\n",
        " '__init__',\n",
        " '__int__',\n",
        " '__invert__',\n",
        " '__ior__',\n",
        " '__ipow__',\n",
        " '__irshift__',\n",
        " '__isub__',\n",
        " '__iter__',\n",
        " '__itruediv__',\n",
        " '__ixor__',\n",
        " '__le__',\n",
        " '__len__',\n",
        " '__long__',\n",
        " '__lshift__',\n",
        " '__lt__',\n",
        " '__mod__',\n",
        " '__mul__',\n",
        " '__ne__',\n",
        " '__neg__',\n",
        " '__new__',\n",
        " '__nonzero__',\n",
        " '__oct__',\n",
        " '__or__',\n",
        " '__pos__',\n",
        " '__pow__',\n",
        " '__radd__',\n",
        " '__rand__',\n",
        " '__rdiv__',\n",
        " '__rdivmod__',\n",
        " '__reduce__',\n",
        " '__reduce_ex__',\n",
        " '__repr__',\n",
        " '__rfloordiv__',\n",
        " '__rlshift__',\n",
        " '__rmod__',\n",
        " '__rmul__',\n",
        " '__ror__',\n",
        " '__rpow__',\n",
        " '__rrshift__',\n",
        " '__rshift__',\n",
        " '__rsub__',\n",
        " '__rtruediv__',\n",
        " '__rxor__',\n",
        " '__setattr__',\n",
        " '__setitem__',\n",
        " '__setslice__',\n",
        " '__setstate__',\n",
        " '__sizeof__',\n",
        " '__str__',\n",
        " '__sub__',\n",
        " '__subclasshook__',\n",
        " '__truediv__',\n",
        " '__xor__',\n",
        " 'all',\n",
        " 'any',\n",
        " 'argmax',\n",
        " 'argmin',\n",
        " 'argsort',\n",
        " 'astype',\n",
        " 'base',\n",
        " 'byteswap',\n",
        " 'choose',\n",
        " 'clip',\n",
        " 'compress',\n",
        " 'conj',\n",
        " 'conjugate',\n",
        " 'copy',\n",
        " 'ctypes',\n",
        " 'cumprod',\n",
        " 'cumsum',\n",
        " 'data',\n",
        " 'diagonal',\n",
        " 'dot',\n",
        " 'dtype',\n",
        " 'dump',\n",
        " 'dumps',\n",
        " 'fill',\n",
        " 'flags',\n",
        " 'flat',\n",
        " 'flatten',\n",
        " 'getfield',\n",
        " 'imag',\n",
        " 'item',\n",
        " 'itemset',\n",
        " 'itemsize',\n",
        " 'max',\n",
        " 'mean',\n",
        " 'min',\n",
        " 'nbytes',\n",
        " 'ndim',\n",
        " 'newbyteorder',\n",
        " 'nonzero',\n",
        " 'prod',\n",
        " 'ptp',\n",
        " 'put',\n",
        " 'ravel',\n",
        " 'real',\n",
        " 'repeat',\n",
        " 'reshape',\n",
        " 'resize',\n",
        " 'round',\n",
        " 'searchsorted',\n",
        " 'setasflat',\n",
        " 'setfield',\n",
        " 'setflags',\n",
        " 'shape',\n",
        " 'size',\n",
        " 'sort',\n",
        " 'squeeze',\n",
        " 'std',\n",
        " 'strides',\n",
        " 'sum',\n",
        " 'swapaxes',\n",
        " 'take',\n",
        " 'tofile',\n",
        " 'tolist',\n",
        " 'tostring',\n",
        " 'trace',\n",
        " 'transpose',\n",
        " 'var',\n",
        " 'view']"
       ]
      }
     ],
     "prompt_number": 47
    },
    {
     "cell_type": "markdown",
     "metadata": {},
     "source": [
      "##Numpy methods for I/O##\n",
      "\n",
      "To ASCII files:\n",
      "\n",
      "* numpy.loadtxt(filename)\t\n",
      "* numpy.savetxt(filename, array)\n",
      "\n",
      "To binary files (can be compressed):\n",
      "\n",
      "* numpy.load(filename)\n",
      "* numpy.save(filename, array)\n"
     ]
    },
    {
     "cell_type": "markdown",
     "metadata": {},
     "source": [
      "###Exercise 4 ###\n",
      "* Generate a 100x100 array with integers in increasing order\n",
      "* Perform a 2x2 binning on the array\n",
      "\n",
      "Definition from wikipedia:\n",
      "\n",
      "In the context of image processing, binning is the procedure of combining a cluster of pixels into a single pixel. As such, in 2x2 binning, an array of 4 pixels becomes a single larger pixel, reducing the overall number of pixels.\n",
      "This aggregation, reducing the number of data (with a loss of information), facilitates the analysis. For instance, binning the data may also reduce the impact of read noise on the processed image (at the cost of a lower resolution).\n",
      "\n",
      "\n"
     ]
    },
    {
     "cell_type": "code",
     "collapsed": false,
     "input": [
      "img = numpy.arange(6*6)\n",
      "img.shape = 6,-1\n",
      "img"
     ],
     "language": "python",
     "metadata": {},
     "outputs": [
      {
       "output_type": "pyout",
       "prompt_number": 58,
       "text": [
        "array([[ 0,  1,  2,  3,  4,  5],\n",
        "       [ 6,  7,  8,  9, 10, 11],\n",
        "       [12, 13, 14, 15, 16, 17],\n",
        "       [18, 19, 20, 21, 22, 23],\n",
        "       [24, 25, 26, 27, 28, 29],\n",
        "       [30, 31, 32, 33, 34, 35]])"
       ]
      }
     ],
     "prompt_number": 58
    },
    {
     "cell_type": "code",
     "collapsed": false,
     "input": [
      "img[::2,::2]+img[1::2,::2]+img[::2,1::2]+img[1::2,1::2]"
     ],
     "language": "python",
     "metadata": {},
     "outputs": [
      {
       "output_type": "pyout",
       "prompt_number": 63,
       "text": [
        "array([[ 14,  22,  30],\n",
        "       [ 62,  70,  78],\n",
        "       [110, 118, 126]])"
       ]
      }
     ],
     "prompt_number": 63
    },
    {
     "cell_type": "code",
     "collapsed": false,
     "input": [
      "c = img.copy()\n",
      "c.shape = 3,2,3,2\n",
      "c.sum(axis=-1).sum(axis=1)\n"
     ],
     "language": "python",
     "metadata": {},
     "outputs": [
      {
       "output_type": "pyout",
       "prompt_number": 64,
       "text": [
        "array([[ 14,  22,  30],\n",
        "       [ 62,  70,  78],\n",
        "       [110, 118, 126]])"
       ]
      }
     ],
     "prompt_number": 64
    },
    {
     "cell_type": "markdown",
     "metadata": {},
     "source": [
      "## Array operation ##\n",
      "All standard operations when applied to arrays, operate element by element: +, -, *, /, //, % ...\n",
      "\n",
      "Other common operations are:\n",
      "\n",
      "* numpy.dot(a, b)      # Standard linear algebra matrix multiplication\n",
      "* numpy.inner(a, b)\t# Inner product \n",
      "* numpy.outer(a, b)\t# Outer product"
     ]
    },
    {
     "cell_type": "markdown",
     "metadata": {},
     "source": [
      "##Exercise 5##\n",
      "\n",
      "Write a function fillArray(n, m) to generate an array of dimension (n, m) in which X[i, j] = cos(i) * sin(j)\n",
      "\n",
      "Time it for n=1000, m = 1000"
     ]
    },
    {
     "cell_type": "code",
     "collapsed": false,
     "input": [],
     "language": "python",
     "metadata": {},
     "outputs": [],
     "prompt_number": 78
    },
    {
     "cell_type": "code",
     "collapsed": false,
     "input": [
      "from math import cos, sin\n",
      "def naive(n,m):\n",
      "    x = []\n",
      "    for i in range(n):\n",
      "        cosi = cos(i)\n",
      "        l=[]\n",
      "        for j in range(m):\n",
      "            l.append(sin(j)*cosi)\n",
      "        x.append(l)\n",
      "    return numpy.array(x)\n",
      "\n",
      "%timeit naive(1000,1000)"
     ],
     "language": "python",
     "metadata": {},
     "outputs": [
      {
       "output_type": "stream",
       "stream": "stdout",
       "text": [
        "1 loops, best of 3: 237 ms per loop\n"
       ]
      }
     ],
     "prompt_number": 79
    },
    {
     "cell_type": "code",
     "collapsed": false,
     "input": [
      "def matlab_like(n,m):\n",
      "    y,x = numpy.ogrid[:n,:m]\n",
      "    return numpy.cos(y)*numpy.sin(x)\n",
      "%timeit matlab_like(1000,1000)"
     ],
     "language": "python",
     "metadata": {},
     "outputs": [
      {
       "output_type": "stream",
       "stream": "stdout",
       "text": [
        "100 loops, best of 3: 2.97 ms per loop\n"
       ]
      }
     ],
     "prompt_number": 77
    },
    {
     "cell_type": "code",
     "collapsed": false,
     "input": [
      "def optimized(n,m):\n",
      "    msin = numpy.sin(numpy.arange(m))\n",
      "    ncos = numpy.cos(numpy.arange(n))\n",
      "    return numpy.outer(ncos,msin)\n",
      "%timeit optimized(1000,1000)"
     ],
     "language": "python",
     "metadata": {},
     "outputs": [
      {
       "output_type": "stream",
       "stream": "stdout",
       "text": [
        "100 loops, best of 3: 2.93 ms per loop\n"
       ]
      }
     ],
     "prompt_number": 78
    },
    {
     "cell_type": "markdown",
     "metadata": {},
     "source": [
      "#Conclusion#\n",
      "Speed is more a question of algorithm than a quiestion of programming language !!!"
     ]
    },
    {
     "cell_type": "markdown",
     "metadata": {},
     "source": [
      "Next: Numpy's C [optimized libraries](http://127.0.0.1:8888/8eaf0696-10a2-4d8d-a4ca-d2da0474aa55)"
     ]
    },
    {
     "cell_type": "code",
     "collapsed": false,
     "input": [],
     "language": "python",
     "metadata": {},
     "outputs": []
    }
   ],
   "metadata": {}
  }
 ]
}