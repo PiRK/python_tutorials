{
 "metadata": {
  "name": "1_Numpy"
 },
 "nbformat": 3,
 "nbformat_minor": 0,
 "worksheets": [
  {
   "cells": [
    {
     "cell_type": "markdown",
     "metadata": {},
     "source": [
      "#NumPy#\n",
      "\n",
      "NumPy is THE library providing number crunching capabilities to Python\n",
      "\n",
      "It extends Python providing tools for\n",
      "\n",
      "- Treatment of multidimensional data\n",
      "\n",
      "- Access to optimized linear algebra libraries\n",
      "\n",
      "- Encapsulation of C and Fortran code\n",
      "\n",
      "##The Numpy ndarray objects##\n",
      "\n",
      "The (nd)array object\n",
      "\n",
      "* Collection of elements of the same type\n",
      "* Implemented in memory as a true table optimized for performance\n",
      "* Handled in similar way as any other python object\n",
      "\n",
      "Multidimensional, any type of data\n",
      "\n",
      "* Dimensions can be modified, flexible indexation\n",
      "* Internal optimization for 1D, 2D and 3D\n",
      "\n",
      "It can be interfaced with other languages"
     ]
    },
    {
     "cell_type": "code",
     "collapsed": false,
     "input": [
      "import numpy"
     ],
     "language": "python",
     "metadata": {},
     "outputs": [],
     "prompt_number": 27
    },
    {
     "cell_type": "markdown",
     "metadata": {},
     "source": [
      "##Array creation, given its contents##\n",
      "\n",
      "From a list of values:"
     ]
    },
    {
     "cell_type": "code",
     "collapsed": false,
     "input": [
      "numpy.array([1, 2, 3, 5, 7, 11, 13, 17])"
     ],
     "language": "python",
     "metadata": {},
     "outputs": [
      {
       "output_type": "pyout",
       "prompt_number": 28,
       "text": [
        "array([ 1,  2,  3,  5,  7, 11, 13, 17])"
       ]
      }
     ],
     "prompt_number": 28
    },
    {
     "cell_type": "markdown",
     "metadata": {},
     "source": [
      "From a list of values and dimensions:\n"
     ]
    },
    {
     "cell_type": "code",
     "collapsed": false,
     "input": [
      "numpy.array([[1, 2, 3], [4, 5, 6]])\n"
     ],
     "language": "python",
     "metadata": {},
     "outputs": [
      {
       "output_type": "pyout",
       "prompt_number": 29,
       "text": [
        "array([[1, 2, 3],\n",
        "       [4, 5, 6]])"
       ]
      }
     ],
     "prompt_number": 29
    },
    {
     "cell_type": "markdown",
     "metadata": {},
     "source": [
      "Also specifying the type of element:"
     ]
    },
    {
     "cell_type": "code",
     "collapsed": false,
     "input": [
      "numpy.array([[1, 2, 3], [4, 5, 6]], dtype=numpy.float64)"
     ],
     "language": "python",
     "metadata": {},
     "outputs": [
      {
       "output_type": "pyout",
       "prompt_number": 30,
       "text": [
        "array([[ 1.,  2.,  3.],\n",
        "       [ 4.,  5.,  6.]])"
       ]
      }
     ],
     "prompt_number": 30
    },
    {
     "cell_type": "markdown",
     "metadata": {},
     "source": [
      "##Array creation using numpy methods##"
     ]
    },
    {
     "cell_type": "code",
     "collapsed": false,
     "input": [
      "shape = (2,3)\n",
      "numpy.zeros(shape,dtype=\"int32\")"
     ],
     "language": "python",
     "metadata": {},
     "outputs": [
      {
       "output_type": "pyout",
       "prompt_number": 31,
       "text": [
        "array([[0, 0, 0],\n",
        "       [0, 0, 0]], dtype=int32)"
       ]
      }
     ],
     "prompt_number": 31
    },
    {
     "cell_type": "code",
     "collapsed": false,
     "input": [
      "numpy.ones(shape,dtype=\"int32\")"
     ],
     "language": "python",
     "metadata": {},
     "outputs": [
      {
       "output_type": "pyout",
       "prompt_number": 32,
       "text": [
        "array([[1, 1, 1],\n",
        "       [1, 1, 1]], dtype=int32)"
       ]
      }
     ],
     "prompt_number": 32
    },
    {
     "cell_type": "code",
     "collapsed": false,
     "input": [
      "#this is a ipython trick to request help ...\n",
      "numpy.arange?"
     ],
     "language": "python",
     "metadata": {},
     "outputs": [],
     "prompt_number": 33
    },
    {
     "cell_type": "code",
     "collapsed": false,
     "input": [
      "numpy.arange(0, 10, 2)"
     ],
     "language": "python",
     "metadata": {},
     "outputs": [
      {
       "output_type": "pyout",
       "prompt_number": 34,
       "text": [
        "array([0, 2, 4, 6, 8])"
       ]
      }
     ],
     "prompt_number": 34
    },
    {
     "cell_type": "code",
     "collapsed": false,
     "input": [
      "numpy.identity(3,dtype=numpy.int)"
     ],
     "language": "python",
     "metadata": {},
     "outputs": [
      {
       "output_type": "pyout",
       "prompt_number": 35,
       "text": [
        "array([[1, 0, 0],\n",
        "       [0, 1, 0],\n",
        "       [0, 0, 1]])"
       ]
      }
     ],
     "prompt_number": 35
    },
    {
     "cell_type": "markdown",
     "metadata": {},
     "source": [
      "Arrays can also be generated from index positions using `numpy.fromfunction`. This can be combined with `lambda-function`"
     ]
    },
    {
     "cell_type": "code",
     "collapsed": false,
     "input": [
      "lambda_function = lambda i,j: numpy.sin(i) * numpy.cos(j)\n",
      "numpy.fromfunction(lambda_function, (3,3))"
     ],
     "language": "python",
     "metadata": {},
     "outputs": [
      {
       "output_type": "pyout",
       "prompt_number": 37,
       "text": [
        "array([[ 0.        ,  0.        , -0.        ],\n",
        "       [ 0.84147098,  0.45464871, -0.35017549],\n",
        "       [ 0.90929743,  0.4912955 , -0.37840125]])"
       ]
      }
     ],
     "prompt_number": 37
    },
    {
     "cell_type": "markdown",
     "metadata": {},
     "source": [
      "Numpy array can directly be dumped to and restrored from disk:"
     ]
    },
    {
     "cell_type": "code",
     "collapsed": false,
     "input": [
      "a = numpy.ones((3, 5), dtype=\"complex\")\n",
      "numpy.save('data.npy', a)\n",
      "b = numpy.load('data.npy')\n",
      "print(b)"
     ],
     "language": "python",
     "metadata": {},
     "outputs": [
      {
       "output_type": "stream",
       "stream": "stdout",
       "text": [
        "[[ 1.+0.j  1.+0.j  1.+0.j  1.+0.j  1.+0.j]\n",
        " [ 1.+0.j  1.+0.j  1.+0.j  1.+0.j  1.+0.j]\n",
        " [ 1.+0.j  1.+0.j  1.+0.j  1.+0.j  1.+0.j]]\n"
       ]
      }
     ],
     "prompt_number": 39
    },
    {
     "cell_type": "markdown",
     "metadata": {},
     "source": [
      "###Exercise 2###\n",
      "\n",
      "Use Python as a simple calculator and compare the behaviour of numpy array (vs lists) as in Exercise 1\n",
      "\n",
      " a = [1, 2, 3]\n",
      " \n",
      " b = numpy.array(a)\n",
      "\n",
      "* What is the result of 2 * a[2] ?\n",
      "* What is the result of 2 * a  ?\n",
      "* What is the result of 2 * b[2] ?\n",
      "* What is the result of 2 * b  ?\n"
     ]
    },
    {
     "cell_type": "code",
     "collapsed": false,
     "input": [
      "a = [1, 2, 3]\n",
      "import numpy\n",
      "b = numpy.array(a)\n",
      "print(2*a[2])\n",
      "print(2*a)\n",
      "print(2*b[2])\n",
      "print(2*b)\n"
     ],
     "language": "python",
     "metadata": {},
     "outputs": [
      {
       "output_type": "stream",
       "stream": "stdout",
       "text": [
        "6\n",
        "[1, 2, 3, 1, 2, 3]\n",
        "6\n",
        "[2 4 6]\n"
       ]
      }
     ],
     "prompt_number": 41
    },
    {
     "cell_type": "code",
     "collapsed": false,
     "input": [],
     "language": "python",
     "metadata": {},
     "outputs": []
    }
   ],
   "metadata": {}
  }
 ]
}