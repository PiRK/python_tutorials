{
 "metadata": {
  "name": "",
  "signature": "sha256:0c189459d9ff784e647e91f2d3f70a15f5398e855d682c46cca5d58d39ba0af7"
 },
 "nbformat": 3,
 "nbformat_minor": 0,
 "worksheets": [
  {
   "cells": [
    {
     "cell_type": "markdown",
     "metadata": {},
     "source": [
      "#NumPy#\n",
      "\n",
      "NumPy is THE library providing number crunching capabilities to Python\n",
      "\n",
      "It extends Python providing tools for\n",
      "\n",
      "- Treatment of multidimensional data: [ndarray](http://localhost:8888/notebooks/1_1_NDarray.ipynb), masked array or matrices (2d-array)\n",
      "\n",
      "- Access to low-level [optimized libraries](http://localhost:8888/notebooks/1_2_Optimized.ipynb): linear algebra, fast Fourier transfrom, random number generator ... \n",
      "\n",
      "- Encapsulation of C and Fortran code: [f2py](http://localhost:8888/notebooks/1_3_f2py.ipynb)\n"
     ]
    },
    {
     "cell_type": "code",
     "collapsed": false,
     "input": [],
     "language": "python",
     "metadata": {},
     "outputs": []
    }
   ],
   "metadata": {}
  }
 ]
}