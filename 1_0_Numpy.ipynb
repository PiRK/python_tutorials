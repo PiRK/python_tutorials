{
 "metadata": {
  "name": "1_0_Numpy"
 },
 "nbformat": 3,
 "nbformat_minor": 0,
 "worksheets": [
  {
   "cells": [
    {
     "cell_type": "markdown",
     "metadata": {},
     "source": [
      "#NumPy#\n",
      "\n",
      "NumPy is THE library providing number crunching capabilities to Python\n",
      "\n",
      "It extends Python providing tools for\n",
      "\n",
      "- Treatment of multidimensional data: [ndarray](http://127.0.0.1:8888/18efac90-482f-433f-b83c-c5a212a10e9f)\n",
      "\n",
      "- Access to low-level [optimized libraries](http://127.0.0.1:8888/8eaf0696-10a2-4d8d-a4ca-d2da0474aa55): linear algebra, fast Fourier transfrom, random number generator ... \n",
      "\n",
      "- Encapsulation of C and Fortran code: f2py\n"
     ]
    },
    {
     "cell_type": "code",
     "collapsed": false,
     "input": [],
     "language": "python",
     "metadata": {},
     "outputs": []
    }
   ],
   "metadata": {}
  }
 ]
}