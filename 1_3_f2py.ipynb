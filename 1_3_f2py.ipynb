{
 "metadata": {
  "name": "",
  "signature": "sha256:d9fe1637325752d8067766814f52e48a9f481a626461af2b648f3d7d535f7e32"
 },
 "nbformat": 3,
 "nbformat_minor": 0,
 "worksheets": [
  {
   "cells": [
    {
     "cell_type": "markdown",
     "metadata": {},
     "source": [
      "#Glue compiled libraries to Python#\n",
      "\n",
      "How to speed up loop ?"
     ]
    },
    {
     "cell_type": "markdown",
     "metadata": {},
     "source": [
      "##Ctypes##\n",
      "Ctypes, available from Python's standart library, provides C compatible data types, and allows calling functions or shared libraries. \n",
      "It can be used to wrap these libraries in pure Python... but requires (some) additionnal work\n",
      "\n",
      "Numpy's array have a ctypes attribute which contains the address of the underlying buffer. \n",
      "It is the user's responsiblity to ensure data are contiguous and properly alligned !"
     ]
    },
    {
     "cell_type": "code",
     "collapsed": false,
     "input": [
      "import numpy\n",
      "a = numpy.arange(10)\n",
      "print(a)\n",
      "print(a.strides)\n",
      "print(\"Address of the buffer: %s\" % a.ctypes.data)\n",
      "print(a.flags)\n",
      "b=a[::2]\n",
      "print(b)\n",
      "print(b.strides)\n",
      "print(\"Address of the buffer: %s\" % b.ctypes.data)\n",
      "print(b.flags)\n"
     ],
     "language": "python",
     "metadata": {},
     "outputs": [
      {
       "output_type": "stream",
       "stream": "stdout",
       "text": [
        "[0 1 2 3 4 5 6 7 8 9]\n",
        "(8,)\n",
        "Address of the buffer: 33523408\n",
        "  C_CONTIGUOUS : True\n",
        "  F_CONTIGUOUS : True\n",
        "  OWNDATA : True\n",
        "  WRITEABLE : True\n",
        "  ALIGNED : True\n",
        "  UPDATEIFCOPY : False\n",
        "[0 2 4 6 8]\n",
        "(16,)\n",
        "Address of the buffer: 33523408\n",
        "  C_CONTIGUOUS : False\n",
        "  F_CONTIGUOUS : False\n",
        "  OWNDATA : False\n",
        "  WRITEABLE : True\n",
        "  ALIGNED : True\n",
        "  UPDATEIFCOPY : False\n"
       ]
      }
     ],
     "prompt_number": 15
    },
    {
     "cell_type": "markdown",
     "metadata": {},
     "source": [
      " ##F2Py#\n",
      "Fortran to Python interface generator, provided by NumPy, which allows:\n",
      "\n",
      "* Calling Fortran 77/90/95, Fortran 90/95 module, and C functions from Python\n",
      "* Accessing Fortran 77 COMMON blocks and Fortran 90/95 module data from Python\n",
      "* Call-back Python functions from Fortran or C\n",
      "* Automatically handling the difference in the data storage order of multi-dimensional Fortran and Numerical Python (i.e. C) arrays.\n",
      "\n",
      "Of course F2Py needs a ForTran Compiler to compile Fortran code which can be an issue on some platforms."
     ]
    },
    {
     "cell_type": "code",
     "collapsed": false,
     "input": [
      "src = \"\"\"\n",
      "C FILE: FIB3.F\n",
      "      SUBROUTINE FIB(A,N)\n",
      "C\n",
      "C     CALCULATE FIRST N FIBONACCI NUMBERS\n",
      "C\n",
      "      INTEGER N\n",
      "      INTEGER A(N)\n",
      "Cf2py intent(in) n\n",
      "Cf2py intent(out) a\n",
      "Cf2py depend(n) a\n",
      "      DO I=1,N\n",
      "         IF (I.EQ.1) THEN\n",
      "            A(I) = 0\n",
      "         ELSEIF (I.EQ.2) THEN\n",
      "            A(I) = 1\n",
      "         ELSE \n",
      "            A(I) = A(I-1) + A(I-2)\n",
      "         ENDIF\n",
      "      ENDDO\n",
      "      END\n",
      "C END FILE FIB3.F\"\"\""
     ],
     "language": "python",
     "metadata": {},
     "outputs": [],
     "prompt_number": 46
    },
    {
     "cell_type": "markdown",
     "metadata": {},
     "source": [
      "Note:\n",
      "Fortran has no \"functions\" only \"subroutines\" (or procedure), so all output needs to be given by calling module.\n",
      "\n",
      "The 3 comment lines staring with Cf2py declare which variable are input, and which are output  "
     ]
    },
    {
     "cell_type": "code",
     "collapsed": false,
     "input": [
      "from numpy import f2py"
     ],
     "language": "python",
     "metadata": {},
     "outputs": [],
     "prompt_number": 47
    },
    {
     "cell_type": "code",
     "collapsed": false,
     "input": [
      "f2py.compile(src, \"fibo\")"
     ],
     "language": "python",
     "metadata": {},
     "outputs": [
      {
       "metadata": {},
       "output_type": "pyout",
       "prompt_number": 51,
       "text": [
        "0"
       ]
      }
     ],
     "prompt_number": 51
    },
    {
     "cell_type": "code",
     "collapsed": false,
     "input": [
      "import fibo\n",
      "reload(fibo)"
     ],
     "language": "python",
     "metadata": {},
     "outputs": [
      {
       "metadata": {},
       "output_type": "pyout",
       "prompt_number": 56,
       "text": [
        "<module 'fibo' from 'fibo.so'>"
       ]
      }
     ],
     "prompt_number": 56
    },
    {
     "cell_type": "code",
     "collapsed": false,
     "input": [
      "fibo.fib(19)"
     ],
     "language": "python",
     "metadata": {},
     "outputs": [
      {
       "metadata": {},
       "output_type": "pyout",
       "prompt_number": 57,
       "text": [
        "array([  0.00000000e+00,   1.00000000e+00,   1.00000000e+00,\n",
        "         2.00000000e+00,   3.00000000e+00,   5.00000000e+00,\n",
        "         8.00000000e+00,   1.30000000e+01,   2.10000000e+01,\n",
        "         3.40000000e+01,   5.50000000e+01,   8.90000000e+01,\n",
        "         1.44000000e+02,   2.33000000e+02,   3.77000000e+02,\n",
        "         6.10000000e+02,   9.87000000e+02,   1.59700000e+03,\n",
        "         2.58400000e+03])"
       ]
      }
     ],
     "prompt_number": 57
    },
    {
     "cell_type": "code",
     "collapsed": false,
     "input": [],
     "language": "python",
     "metadata": {},
     "outputs": []
    }
   ],
   "metadata": {}
  }
 ]
}