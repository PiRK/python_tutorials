{
 "metadata": {
  "name": "",
  "signature": "sha256:799183798d627166cbec0a899eb924897aa63ad9f56b7d4d9c4ffc9c9f968804"
 },
 "nbformat": 3,
 "nbformat_minor": 0,
 "worksheets": [
  {
   "cells": [
    {
     "cell_type": "markdown",
     "metadata": {},
     "source": [
      "#Matplotlib#\n",
      "\n",
      "Matplotlib is _the_ *de facto* 2D plotting interface for python, thanks to its integration with ipython. It produces publication quality figures in a variety of hardcopy formats and interactive environments across platforms (Tk, GTK, Qt, ...).\n",
      "\n",
      "Matplotlib comes with two programming interfaces:\n",
      "\n",
      "* The *pyplot* programatic interface which is an object oriented interface with figure/axes/plots.  \n",
      "* The *pylab* interface which provides a *matlab* like interface in ipython. Have you noticed the *%pylab* magic command ?"
     ]
    },
    {
     "cell_type": "code",
     "collapsed": false,
     "input": [
      "from scipy.misc import lena\n",
      "img = lena()"
     ],
     "language": "python",
     "metadata": {},
     "outputs": [],
     "prompt_number": 1
    },
    {
     "cell_type": "markdown",
     "metadata": {},
     "source": [
      "This is just a way to produce an image ... here the well-known picture from Lena\n",
      "\n",
      "##Programatic interface##\n",
      "\n",
      "The pyplot interface is the most powerful, feature rich interface to use matplotlib. It provides an object oriented interface where every object is under control (nothing is hidden) "
     ]
    },
    {
     "cell_type": "code",
     "collapsed": false,
     "input": [
      "import matplotlib.pyplot as plt\n",
      "fig = plt.figure()\n",
      "ax1 = fig.add_subplot(1,2,1)\n",
      "ax2 = fig.add_subplot(1,2,2)\n",
      "ax1.imshow(img, cmap=\"gray\")\n",
      "ax2.hist(img.flat, 256)\n",
      "fig.show()"
     ],
     "language": "python",
     "metadata": {},
     "outputs": [],
     "prompt_number": 2
    },
    {
     "cell_type": "markdown",
     "metadata": {},
     "source": [
      "There are plenty of plots available among them:\n",
      "\n",
      "* Line plots:\t*plot*, *semilogx*, *semilogy*, *loglog*\n",
      "* Scatter plots: *scatter*\n",
      "* Histograms: *hist*\n",
      "* Bar charts: *bar*\n",
      "* Pie charts: *pie*\n",
      "* Images: *imshow*\n",
      "* Contour plots: *contour*\n",
      "\n",
      "Of course many other types of plots are possible, the easiest is probably to look [at the gallery](http://matplotlib.org/gallery.html)"
     ]
    },
    {
     "cell_type": "markdown",
     "metadata": {},
     "source": [
      "Some other interesing commands are:\n",
      "\n",
      "* figure.clf(): clear figure\n",
      "* axe.cla(): clear axis\n",
      "* figure.show(): display the figure\n",
      "* figure.canvas.draw(): enforce the update of the image drawn\n",
      "* figure.savefig(fname): save the image (as PNG by default)\n",
      "\n",
      "Overall, this lacks interactivity !"
     ]
    },
    {
     "cell_type": "markdown",
     "metadata": {},
     "source": [
      "##Matlab-like interface: pylab##\n",
      "\n",
      "The *pylab* interface offers a scripting user interface close to the one of Matlab, especially when integrated into ipython.\n",
      "\n",
      "One can select the backend at runtime like *%pylab inline* or *%pylab qt4*\n",
      "\n",
      "The pylab interface makes common matplotlib interface for the former action as simple as:\n",
      "\n",
      "* clf(): Clear the current figure\n",
      "* cla(): Clear the current plot (\u201cclear axes\u201d)\n",
      "* subplot(rci) or subplot(r,c,i): Divide plot area in r x c plots and select I as current\n",
      "* show(): Update the plot\n",
      "* savefig(fname):\t- Save the plot to a file\n",
      "* ginput(n):\tRecover (x,y) coordinates of n user clicks\n",
      "\n",
      "This is useful for prototyping and create small scripts. I recommand you to use the %pylab in ipython"
     ]
    },
    {
     "cell_type": "code",
     "collapsed": false,
     "input": [
      "%pylab inline"
     ],
     "language": "python",
     "metadata": {},
     "outputs": [
      {
       "output_type": "stream",
       "stream": "stdout",
       "text": [
        "Populating the interactive namespace from numpy and matplotlib\n"
       ]
      }
     ],
     "prompt_number": 3
    },
    {
     "cell_type": "code",
     "collapsed": false,
     "input": [
      "x = numpy.linspace(-5,5,500)\n",
      "y = numpy.exp(-x*x)\n",
      "plot(x,y,label=\"gaussian\")\n",
      "legend()"
     ],
     "language": "python",
     "metadata": {},
     "outputs": [
      {
       "metadata": {},
       "output_type": "pyout",
       "prompt_number": 4,
       "text": [
        "<matplotlib.legend.Legend at 0x7fe6ab8180d0>"
       ]
      },
      {
       "metadata": {},
       "output_type": "display_data",
       "png": "[encoded data removed]",
       "text": [
        "<matplotlib.figure.Figure at 0x7fe6ab818190>"
       ]
      }
     ],
     "prompt_number": 4
    },
    {
     "cell_type": "markdown",
     "metadata": {},
     "source": [
      "Warning, this \"ease of use\" comes a price:"
     ]
    },
    {
     "cell_type": "markdown",
     "metadata": {},
     "source": [
      "\n",
      "* Many objects are hidden and get never freed\n",
      "* Showing arrays as images usually creates 3 extra copies: \n",
      "    * a copy to prevent modification\n",
      "    * the same represented as float between 0 and 1\n",
      "    * the same in 3 x uint8 after applying the colormap\n",
      "* Huge memory consumption, which ends in memory-leaks\n",
      "\n",
      "The authors are aware of this \"weakness\" ... but this is the price to mimic *matlab*. Anyway, by using *matlab* you would have to by the same amount of memory for your computer in addition to the license :\u00fe\n",
      "\n",
      "If you run *ipython --pylab* what happends ?\n",
      "\n",
      "Python performs a *from pylab import \\**"
     ]
    },
    {
     "cell_type": "code",
     "collapsed": false,
     "input": [
      "matplotlib.pylab??"
     ],
     "language": "python",
     "metadata": {},
     "outputs": [],
     "prompt_number": 5
    },
    {
     "cell_type": "markdown",
     "metadata": {},
     "source": [
      "Scarry, no ?"
     ]
    },
    {
     "cell_type": "markdown",
     "metadata": {},
     "source": [
      "##Conclusion##\n",
      "Use the pylab interface for prototyping interactively and convert it to the pyplot interface when writing the application.\n",
      "\n",
      "Visualization may be OK, but Matlab provides me with all libraries I have dreamt of. Aren't they available from Python ?\n",
      "Yes they are available within [SciPy](http://localhost:8888/notebooks/3_scipy.ipynb)"
     ]
    },
    {
     "cell_type": "code",
     "collapsed": false,
     "input": [],
     "language": "python",
     "metadata": {},
     "outputs": []
    }
   ],
   "metadata": {}
  }
 ]
}