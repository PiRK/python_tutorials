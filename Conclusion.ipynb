{
 "metadata": {
  "name": "",
  "signature": "sha256:0aafc6e75024dac6bde4aa86b903dfdacf4c13855968c0fe57df2494fff633c7"
 },
 "nbformat": 3,
 "nbformat_minor": 0,
 "worksheets": [
  {
   "cells": [
    {
     "cell_type": "markdown",
     "metadata": {},
     "source": [
      "#Conclusion#\n",
      "With NumPy, SciPy and Matplotlib an interactive Python session becomes a data-processing and system-prototyping environment rivaling sytems such as MATLAB, IDL, Octave, R-Lab, and SciLab.\n",
      "\n",
      "One strength of the Python scientific ecosystem is its very liberal licensing conditions: Everything is under BSD or MIT license, which means it can be used in commercial products without restriction, even for redistribution or selling."
     ]
    },
    {
     "cell_type": "code",
     "collapsed": false,
     "input": [],
     "language": "python",
     "metadata": {},
     "outputs": []
    }
   ],
   "metadata": {}
  }
 ]
}